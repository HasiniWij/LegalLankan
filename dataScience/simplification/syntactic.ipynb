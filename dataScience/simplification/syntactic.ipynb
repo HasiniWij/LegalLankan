{
  "nbformat": 4,
  "nbformat_minor": 0,
  "metadata": {
    "colab": {
      "name": "syntactic.ipynb",
      "provenance": [],
      "collapsed_sections": []
    },
    "kernelspec": {
      "name": "python3",
      "display_name": "Python 3"
    }
  },
  "cells": [
    {
      "cell_type": "code",
      "metadata": {
        "colab": {
          "base_uri": "https://localhost:8080/"
        },
        "id": "bqE7wEcqU6qT",
        "outputId": "7c9b1666-378f-41fd-e613-982fc45cf56f"
      },
      "source": [
        "pip install pycorenlp"
      ],
      "execution_count": null,
      "outputs": [
        {
          "output_type": "stream",
          "text": [
            "Requirement already satisfied: pycorenlp in /usr/local/lib/python3.6/dist-packages (0.3.0)\n",
            "Requirement already satisfied: requests in /usr/local/lib/python3.6/dist-packages (from pycorenlp) (2.23.0)\n",
            "Requirement already satisfied: certifi>=2017.4.17 in /usr/local/lib/python3.6/dist-packages (from requests->pycorenlp) (2020.12.5)\n",
            "Requirement already satisfied: urllib3!=1.25.0,!=1.25.1,<1.26,>=1.21.1 in /usr/local/lib/python3.6/dist-packages (from requests->pycorenlp) (1.24.3)\n",
            "Requirement already satisfied: idna<3,>=2.5 in /usr/local/lib/python3.6/dist-packages (from requests->pycorenlp) (2.10)\n",
            "Requirement already satisfied: chardet<4,>=3.0.2 in /usr/local/lib/python3.6/dist-packages (from requests->pycorenlp) (3.0.4)\n"
          ],
          "name": "stdout"
        }
      ]
    },
    {
      "cell_type": "code",
      "metadata": {
        "id": "gSqG4xHOUojL",
        "colab": {
          "base_uri": "https://localhost:8080/"
        },
        "outputId": "7e54bd32-24b3-4918-9054-1d09d45514c3"
      },
      "source": [
        "import nltk\r\n",
        "import re\r\n",
        "nltk.download('punkt')\r\n",
        "from pycorenlp import *\r\n",
        "nlp=StanfordCoreNLP(\"https://corenlp.run/\")"
      ],
      "execution_count": null,
      "outputs": [
        {
          "output_type": "stream",
          "text": [
            "[nltk_data] Downloading package punkt to /root/nltk_data...\n",
            "[nltk_data]   Package punkt is already up-to-date!\n"
          ],
          "name": "stdout"
        }
      ]
    },
    {
      "cell_type": "code",
      "metadata": {
        "id": "eXoR_-_GmmyT"
      },
      "source": [
        "# checking whether a sentence is complete using a parse tree\r\n",
        "\r\n",
        "def confirm_simplification(text):\r\n",
        "  sub_sub_trees=[]\r\n",
        "  parser = nlp.annotate(text, properties={\"annotators\":\"parse\",\"outputFormat\": \"json\"})\r\n",
        "  sent_tree = nltk.tree.ParentedTree.fromstring(parser[\"sentences\"][0][\"parse\"])\r\n",
        "  sent_tree.pretty_print()\r\n",
        "  sub_trees=list(sent_tree.subtrees())\r\n",
        "  \r\n",
        "  if sub_trees[1].label()==\"S\":\r\n",
        "    for sub_sub_tree in sub_trees[1]:\r\n",
        "      sub_sub_trees.append(sub_sub_tree.label())\r\n",
        "  \r\n",
        "    if (\"VP\" and \"NP\") in sub_sub_trees:\r\n",
        "       return True \r\n",
        "  return False"
      ],
      "execution_count": null,
      "outputs": []
    },
    {
      "cell_type": "code",
      "metadata": {
        "id": "1IgvNFlXm2OO"
      },
      "source": [
        "conjunction_list=[\"for\",\"and\"]"
      ],
      "execution_count": null,
      "outputs": []
    },
    {
      "cell_type": "code",
      "metadata": {
        "id": "kCosCtekcaZs"
      },
      "source": [
        "# checking whether a sentence has a conjunction\r\n",
        "\r\n",
        "def word_is_a_conjunction(word):\r\n",
        "  for conjunction in conjunction_list:\r\n",
        "    if word == conjunction:\r\n",
        "      return True\r\n",
        "  return False"
      ],
      "execution_count": null,
      "outputs": []
    },
    {
      "cell_type": "code",
      "metadata": {
        "id": "g1q7JsfZerdJ"
      },
      "source": [
        "def tokenized(sentence):\r\n",
        "  nltk_tokens = nltk.word_tokenize(sentence)\r\n",
        "  return nltk_tokens"
      ],
      "execution_count": null,
      "outputs": []
    },
    {
      "cell_type": "code",
      "metadata": {
        "id": "YjIketYHhvur"
      },
      "source": [
        "def sentences_list(token_list1, token_list2):\r\n",
        "  str1 = \" \"\r\n",
        "  str2 = \" \"\r\n",
        "  broken_list=[str1.join(token_list1),str2.join(token_list2)]\r\n",
        "  return broken_list\r\n",
        "  "
      ],
      "execution_count": null,
      "outputs": []
    },
    {
      "cell_type": "code",
      "metadata": {
        "id": "vO4lkl9_scV0"
      },
      "source": [
        "text=\"Nothing in this Article shall prejudice the trial and punishment of any person for any act or omission which, at the time when it was committed, was criminal according to the general principles of law recognized by the community of nations.\""
      ],
      "execution_count": null,
      "outputs": []
    },
    {
      "cell_type": "code",
      "metadata": {
        "id": "UzJCIWK-srCA",
        "colab": {
          "base_uri": "https://localhost:8080/"
        },
        "outputId": "fe556b8e-e6d4-4d55-88ce-61742bdf1513"
      },
      "source": [
        "# if the 2 sentences broken from the conjunction form complete sentences, the splitting is successful\r\n",
        "\r\n",
        "text = re.sub(r\"(\\.|,|\\?|\\(|\\)|\\[|\\])\", \"\", text)\r\n",
        "count = 0\r\n",
        "broken_sentences=[]\r\n",
        "if (len(text.split())>25) and any(conjunction in text for conjunction in conjunction_list) :\r\n",
        "\r\n",
        "  for word in tokenized(text):\r\n",
        "      if word_is_a_conjunction(word):\r\n",
        "        token_list=tokenized(text)     \r\n",
        "        sentences = sentences_list(token_list[:count], token_list[count+1:])\r\n",
        "        print(\"sentences\",sentences)\r\n",
        "        if confirm_simplification(sentences[0]) and confirm_simplification(sentences[1]):\r\n",
        "          broken_sentences=[sentences[0], sentences[1]]\r\n",
        "          break\r\n",
        "      count+=1\r\n",
        "            \r\n",
        "print(\"Output: \",broken_sentences)"
      ],
      "execution_count": null,
      "outputs": [
        {
          "output_type": "stream",
          "text": [
            "sentences ['Nothing in this Article shall prejudice the trial', 'punishment of any person for any act or omission which at the time when it was committed was criminal according to the general principles of law recognized by the community of nations']\n",
            "                           ROOT                                   \n",
            "                            |                                      \n",
            "                            S                                     \n",
            "              ______________|_____________________                 \n",
            "             NP                                   VP              \n",
            "    _________|___                   ______________|___             \n",
            "   |             PP                |                  VP          \n",
            "   |      _______|____             |        __________|___         \n",
            "   NP    |            NP           |       |              NP      \n",
            "   |     |        ____|_____       |       |           ___|____    \n",
            "   NN    IN      DT         NN     MD      VB         DT       NN \n",
            "   |     |       |          |      |       |          |        |   \n",
            "Nothing  in     this     Article shall prejudice     the     trial\n",
            "\n",
            "           ROOT                                                                                                                                                                                                                     \n",
            "            |                                                                                                                                                                                                                        \n",
            "            NP                                                                                                                                                                                                                      \n",
            "     _______|____                                                                                                                                                                                                                    \n",
            "    |            PP                                                                                                                                                                                                                 \n",
            "    |        ____|______________                                                                                                                                                                                                     \n",
            "    |       |                   NP                                                                                                                                                                                                  \n",
            "    |       |         __________|___________                                                                                                                                                                                         \n",
            "    |       |        |                      PP                                                                                                                                                                                      \n",
            "    |       |        |           ___________|__________________                                                                                                                                                                      \n",
            "    |       |        |          |                              NP                                                                                                                                                                   \n",
            "    |       |        |          |        ______________________|_______________________                                                                                                                                              \n",
            "    |       |        |          |       |                                             SBAR                                                                                                                                          \n",
            "    |       |        |          |       |                  ____________________________|__________________________________________________                                                                                           \n",
            "    |       |        |          |       |                 |                                                                               S                                                                                         \n",
            "    |       |        |          |       |                 |         ______________________________________________________________________|_____________________________________________________                                     \n",
            "    |       |        |          |       |                 |        PP                                                    VP                                                                     S                                   \n",
            "    |       |        |          |       |                 |     ___|_____________                                   _____|________________                                                      |                                    \n",
            "    |       |        |          |       |                 |    |                 NP                                |     |                PP                                                    VP                                  \n",
            "    |       |        |          |       |                 |    |        _________|__________                       |     |          ______|_________                                 ___________|__________                          \n",
            "    |       |        |          |       |                 |    |       |                   SBAR                    |     |         |                PP                              |                      PP                       \n",
            "    |       |        |          |       |                 |    |       |          __________|____                  |     |         |       _________|________                       |        ______________|______                   \n",
            "    |       |        |          |       |                 |    |       |         |               S                 |     |         |      |                  NP                     |       |                     NP                \n",
            "    |       |        |          |       |                 |    |       |         |      _________|___              |     |         |      |          ________|___________           |       |        _____________|_______           \n",
            "    |       |        |          |       |                 |    |       |         |     |             VP            |     |         |      |         |                    PP         |       |       |                     PP        \n",
            "    |       |        |          |       |                 |    |       |         |     |          ___|______       |     |         |      |         |                 ___|___       |       |       |                  ___|_____     \n",
            "    NP      |        NP         |       NP               WHNP  |       NP      WHADVP  NP        |          VP     |    ADJP       |      |         NP               |       NP     |       |       NP                |         NP  \n",
            "    |       |     ___|____      |    ___|_________        |    |    ___|___      |     |         |          |      |     |         |      |    _____|________        |       |      |       |    ___|______           |         |    \n",
            "    NN      IN   DT       NN    IN  DT  NN  CC    NN     WDT   IN  DT      NN   WRB   PRP       VBD        VBN    VBD    JJ       VBG     IN  DT    JJ      NNS      IN      NN    VBN      IN  DT         NN         IN       NNS  \n",
            "    |       |    |        |     |   |   |   |     |       |    |   |       |     |     |         |          |      |     |         |      |   |     |        |       |       |      |       |   |          |          |         |    \n",
            "punishment  of  any     person for any act  or omission which  at the     time  when   it       was     committed was criminal according  to the general principles  of     law recognized  by the     community      of     nations\n",
            "\n",
            "sentences ['Nothing in this Article shall prejudice the trial and punishment of any person', 'any act or omission which at the time when it was committed was criminal according to the general principles of law recognized by the community of nations']\n",
            "                           ROOT                                                             \n",
            "                            |                                                                \n",
            "                            S                                                               \n",
            "              ______________|_____________________                                           \n",
            "             |                                    VP                                        \n",
            "             |                      ______________|_________                                 \n",
            "             |                     |                        VP                              \n",
            "             |                     |        ________________|______                          \n",
            "             NP                    |       |                       NP                       \n",
            "    _________|___                  |       |            ___________|___________              \n",
            "   |             PP                |       |           |                       PP           \n",
            "   |      _______|____             |       |           |                    ___|___          \n",
            "   NP    |            NP           |       |           NP                  |       NP       \n",
            "   |     |        ____|_____       |       |       ____|___________        |    ___|____     \n",
            "   NN    IN      DT         NN     MD      VB     DT   NN   CC     NN      IN  DT       NN  \n",
            "   |     |       |          |      |       |      |    |    |      |       |   |        |    \n",
            "Nothing  in     this     Article shall prejudice the trial and punishment  of any     person\n",
            "\n",
            "                           ROOT                                                                                                                                                                   \n",
            "                            |                                                                                                                                                                      \n",
            "                            NP                                                                                                                                                                    \n",
            "      ______________________|________________________                                                                                                                                              \n",
            "     |                                              SBAR                                                                                                                                          \n",
            "     |                  _____________________________|__________________________________________________                                                                                           \n",
            "     |                 |                                                                                S                                                                                         \n",
            "     |                 |          ______________________________________________________________________|_____________________________________________________                                     \n",
            "     |                 |         PP                                                    VP                                                                     S                                   \n",
            "     |                 |     ____|_____________                                   _____|________________                                                      |                                    \n",
            "     |                 |    |                  NP                                |     |                PP                                                    VP                                  \n",
            "     |                 |    |         _________|__________                       |     |          ______|_________                                 ___________|__________                          \n",
            "     |                 |    |        |                   SBAR                    |     |         |                PP                              |                      PP                       \n",
            "     |                 |    |        |          __________|____                  |     |         |       _________|________                       |        ______________|______                   \n",
            "     |                 |    |        |         |               S                 |     |         |      |                  NP                     |       |                     NP                \n",
            "     |                 |    |        |         |      _________|___              |     |         |      |          ________|___________           |       |        _____________|_______           \n",
            "     |                 |    |        |         |     |             VP            |     |         |      |         |                    PP         |       |       |                     PP        \n",
            "     |                 |    |        |         |     |          ___|______       |     |         |      |         |                 ___|___       |       |       |                  ___|_____     \n",
            "     NP               WHNP  |        NP      WHADVP  NP        |          VP     |    ADJP       |      |         NP               |       NP     |       |       NP                |         NP  \n",
            "  ___|_________        |    |     ___|___      |     |         |          |      |     |         |      |    _____|________        |       |      |       |    ___|______           |         |    \n",
            " DT  NN  CC    NN     WDT   IN   DT      NN   WRB   PRP       VBD        VBN    VBD    JJ       VBG     IN  DT    JJ      NNS      IN      NN    VBN      IN  DT         NN         IN       NNS  \n",
            " |   |   |     |       |    |    |       |     |     |         |          |      |     |         |      |   |     |        |       |       |      |       |   |          |          |         |    \n",
            "any act  or omission which  at  the     time  when   it       was     committed was criminal according  to the general principles  of     law recognized  by the     community      of     nations\n",
            "\n",
            "sentences ['Nothing in this Article shall prejudice the trial and punishment of any person for any act', 'omission which at the time when it was committed was criminal according to the general principles of law recognized by the community of nations']\n",
            "                           ROOT                                                                             \n",
            "                            |                                                                                \n",
            "                            S                                                                               \n",
            "              ______________|______________                                                                  \n",
            "             |                             VP                                                               \n",
            "             |                      _______|___________                                                      \n",
            "             |                     |                   VP                                                   \n",
            "             |                     |        ___________|___________________                                  \n",
            "             |                     |       |                               NP                               \n",
            "             |                     |       |            ___________________|____________                     \n",
            "             |                     |       |           |                                PP                  \n",
            "             |                     |       |           |                    ____________|_____               \n",
            "             NP                    |       |           |                   |                  NP            \n",
            "    _________|___                  |       |           |                   |        __________|___           \n",
            "   |             PP                |       |           |                   |       |              PP        \n",
            "   |      _______|____             |       |           |                   |       |           ___|___       \n",
            "   NP    |            NP           |       |           NP                  |       NP         |       NP    \n",
            "   |     |        ____|_____       |       |       ____|___________        |    ___|____      |    ___|___   \n",
            "   NN    IN      DT         NN     MD      VB     DT   NN   CC     NN      IN  DT       NN    IN  DT      NN\n",
            "   |     |       |          |      |       |      |    |    |      |       |   |        |     |   |       |  \n",
            "Nothing  in     this     Article shall prejudice the trial and punishment  of any     person for any     act\n",
            "\n",
            "                   ROOT                                                                                                                                                               \n",
            "                    |                                                                                                                                                                  \n",
            "                    NP                                                                                                                                                                \n",
            "    ________________|____________________                                                                                                                                              \n",
            "   |                                    SBAR                                                                                                                                          \n",
            "   |        _____________________________|__________________________________________________                                                                                           \n",
            "   |       |                                                                                S                                                                                         \n",
            "   |       |         _______________________________________________________________________|_____________________________________________________                                     \n",
            "   |       |        PP                                                     VP                                                                     S                                   \n",
            "   |       |     ___|______________                                   _____|________________                                                      |                                    \n",
            "   |       |    |                  NP                                |     |                PP                                                    VP                                  \n",
            "   |       |    |         _________|__________                       |     |          ______|_________                                 ___________|__________                          \n",
            "   |       |    |        |                   SBAR                    |     |         |                PP                              |                      PP                       \n",
            "   |       |    |        |          __________|____                  |     |         |       _________|________                       |        ______________|______                   \n",
            "   |       |    |        |         |               S                 |     |         |      |                  NP                     |       |                     NP                \n",
            "   |       |    |        |         |      _________|___              |     |         |      |          ________|___________           |       |        _____________|_______           \n",
            "   |       |    |        |         |     |             VP            |     |         |      |         |                    PP         |       |       |                     PP        \n",
            "   |       |    |        |         |     |          ___|______       |     |         |      |         |                 ___|___       |       |       |                  ___|_____     \n",
            "   NP     WHNP  |        NP      WHADVP  NP        |          VP     |    ADJP       |      |         NP               |       NP     |       |       NP                |         NP  \n",
            "   |       |    |    ____|___      |     |         |          |      |     |         |      |    _____|________        |       |      |       |    ___|______           |         |    \n",
            "   NN     WDT   IN  DT       NN   WRB   PRP       VBD        VBN    VBD    JJ       VBG     IN  DT    JJ      NNS      IN      NN    VBN      IN  DT         NN         IN       NNS  \n",
            "   |       |    |   |        |     |     |         |          |      |     |         |      |   |     |        |       |       |      |       |   |          |          |         |    \n",
            "omission which  at the      time  when   it       was     committed was criminal according  to the general principles  of     law recognized  by the     community      of     nations\n",
            "\n",
            "Output:  []\n"
          ],
          "name": "stdout"
        }
      ]
    },
    {
      "cell_type": "code",
      "metadata": {
        "id": "bbQNj6kLUWHj"
      },
      "source": [
        "# credits: https://github.com/freyamehta99/Sentence-Simplification/blob/master/sent_to_clauses.py"
      ],
      "execution_count": null,
      "outputs": []
    }
  ]
}