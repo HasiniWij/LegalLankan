{
  "nbformat": 4,
  "nbformat_minor": 0,
  "metadata": {
    "colab": {
      "name": "MultinomialNB.ipynb",
      "provenance": [],
      "collapsed_sections": []
    },
    "kernelspec": {
      "name": "python3",
      "display_name": "Python 3"
    }
  },
  "cells": [
    {
      "cell_type": "code",
      "metadata": {
        "id": "BWQaN8XnDsfz"
      },
      "source": [
        "import pickle\r\n",
        "import numpy as np\r\n",
        "from sklearn.feature_extraction.text import TfidfVectorizer\r\n",
        "from sklearn.naive_bayes import MultinomialNB\r\n",
        "from pprint import pprint\r\n",
        "from sklearn.model_selection import RandomizedSearchCV\r\n",
        "from sklearn.model_selection import GridSearchCV\r\n",
        "from sklearn.metrics import classification_report, confusion_matrix, accuracy_score\r\n",
        "from sklearn.model_selection import ShuffleSplit\r\n",
        "import matplotlib.pyplot as plt\r\n",
        "import seaborn as sns\r\n",
        "import pandas as pd"
      ],
      "execution_count": null,
      "outputs": []
    },
    {
      "cell_type": "code",
      "metadata": {
        "id": "fIpKAGWvDvzf"
      },
      "source": [
        "path_df = \"/content/df.pickle\"\r\n",
        "with open(path_df, 'rb') as data:\r\n",
        "    df = pickle.load(data)\r\n",
        "\r\n",
        "# features_train\r\n",
        "path_features_train = \"/content/features_train.pickle\"\r\n",
        "with open(path_features_train, 'rb') as data:\r\n",
        "    features_train = pickle.load(data)\r\n",
        "\r\n",
        "# labels_train\r\n",
        "path_labels_train = \"/content/labels_train.pickle\"\r\n",
        "with open(path_labels_train, 'rb') as data:\r\n",
        "    labels_train = pickle.load(data)\r\n",
        "\r\n",
        "# features_test\r\n",
        "path_features_test = \"/content/features_test.pickle\"\r\n",
        "with open(path_features_test, 'rb') as data:\r\n",
        "    features_test = pickle.load(data)\r\n",
        "\r\n",
        "# labels_test\r\n",
        "path_labels_test = \"/content/labels_test.pickle\"\r\n",
        "with open(path_labels_test, 'rb') as data:\r\n",
        "    labels_test = pickle.load(data)"
      ],
      "execution_count": null,
      "outputs": []
    },
    {
      "cell_type": "code",
      "metadata": {
        "id": "Uv92X3eeD66X"
      },
      "source": [
        "mnbc = MultinomialNB()\r\n",
        "\r\n",
        "mnbc.fit(features_train, labels_train)\r\n",
        "mnbc_pred = mnbc.predict(features_test)"
      ],
      "execution_count": null,
      "outputs": []
    },
    {
      "cell_type": "code",
      "metadata": {
        "id": "Zo1OcNblEIBj",
        "colab": {
          "base_uri": "https://localhost:8080/"
        },
        "outputId": "5e498e0f-fcab-4307-f3c4-e19c4ebedadf"
      },
      "source": [
        "# Test accuracy\r\n",
        "print(\"The test accuracy is: \")\r\n",
        "print(accuracy_score(labels_test, mnbc_pred))"
      ],
      "execution_count": null,
      "outputs": [
        {
          "output_type": "stream",
          "text": [
            "The test accuracy is: \n",
            "0.8395904436860068\n"
          ],
          "name": "stdout"
        }
      ]
    },
    {
      "cell_type": "code",
      "metadata": {
        "id": "U5gwWeLYEK7w",
        "colab": {
          "base_uri": "https://localhost:8080/"
        },
        "outputId": "90d475e2-f88c-4883-b24e-eb5203c68d62"
      },
      "source": [
        "# Classification report\r\n",
        "print(\"Classification report\")\r\n",
        "print(classification_report(labels_test,mnbc_pred))"
      ],
      "execution_count": null,
      "outputs": [
        {
          "output_type": "stream",
          "text": [
            "Classification report\n",
            "              precision    recall  f1-score   support\n",
            "\n",
            "           0       0.88      0.75      0.81        57\n",
            "           1       0.83      0.89      0.86        97\n",
            "           2       0.88      0.73      0.80        30\n",
            "           3       0.83      0.87      0.85       109\n",
            "\n",
            "    accuracy                           0.84       293\n",
            "   macro avg       0.85      0.81      0.83       293\n",
            "weighted avg       0.84      0.84      0.84       293\n",
            "\n"
          ],
          "name": "stdout"
        }
      ]
    },
    {
      "cell_type": "code",
      "metadata": {
        "id": "hHZV0XZQEQ3t"
      },
      "source": [
        "aux_df = df[['category', 'Category_Code']].drop_duplicates().sort_values('Category_Code')\r\n",
        "conf_matrix = confusion_matrix(labels_test, mnbc_pred)\r\n",
        "plt.figure(figsize=(12.8,6))\r\n",
        "sns.heatmap(conf_matrix, \r\n",
        "            annot=True,\r\n",
        "            xticklabels=aux_df['category'].values, \r\n",
        "            yticklabels=aux_df['category'].values,\r\n",
        "            cmap=\"Blues\")\r\n",
        "plt.ylabel('Predicted')\r\n",
        "plt.xlabel('Actual')\r\n",
        "plt.title('Confusion matrix')\r\n",
        "plt.show()"
      ],
      "execution_count": null,
      "outputs": []
    },
    {
      "cell_type": "code",
      "metadata": {
        "id": "5EnYUKO_ERfq"
      },
      "source": [
        "d = {\r\n",
        "     'Model': 'Multinomial Naïve Bayes',\r\n",
        "     'Training Set Accuracy': accuracy_score(labels_train, mnbc.predict(features_train)),\r\n",
        "     'Test Set Accuracy': accuracy_score(labels_test, mnbc_pred)\r\n",
        "}\r\n",
        "\r\n",
        "df_models_mnbc = pd.DataFrame(d, index=[0])"
      ],
      "execution_count": null,
      "outputs": []
    },
    {
      "cell_type": "code",
      "metadata": {
        "id": "eItWs_MHEUHu",
        "colab": {
          "base_uri": "https://localhost:8080/"
        },
        "outputId": "ac96b0f8-1b49-4dd3-a70e-f945a5a65c4b"
      },
      "source": [
        "df_models_mnbc"
      ],
      "execution_count": null,
      "outputs": [
        {
          "output_type": "execute_result",
          "data": {
            "text/html": [
              "<div>\n",
              "<style scoped>\n",
              "    .dataframe tbody tr th:only-of-type {\n",
              "        vertical-align: middle;\n",
              "    }\n",
              "\n",
              "    .dataframe tbody tr th {\n",
              "        vertical-align: top;\n",
              "    }\n",
              "\n",
              "    .dataframe thead th {\n",
              "        text-align: right;\n",
              "    }\n",
              "</style>\n",
              "<table border=\"1\" class=\"dataframe\">\n",
              "  <thead>\n",
              "    <tr style=\"text-align: right;\">\n",
              "      <th></th>\n",
              "      <th>Model</th>\n",
              "      <th>Training Set Accuracy</th>\n",
              "      <th>Test Set Accuracy</th>\n",
              "    </tr>\n",
              "  </thead>\n",
              "  <tbody>\n",
              "    <tr>\n",
              "      <th>0</th>\n",
              "      <td>Multinomial Naïve Bayes</td>\n",
              "      <td>0.834641</td>\n",
              "      <td>0.83959</td>\n",
              "    </tr>\n",
              "  </tbody>\n",
              "</table>\n",
              "</div>"
            ],
            "text/plain": [
              "                     Model  Training Set Accuracy  Test Set Accuracy\n",
              "0  Multinomial Naïve Bayes               0.834641            0.83959"
            ]
          },
          "metadata": {
            "tags": []
          },
          "execution_count": 8
        }
      ]
    },
    {
      "cell_type": "code",
      "metadata": {
        "id": "G27O82hXEXQI"
      },
      "source": [
        "# with open('Models/best_mnbc.pickle', 'wb') as output:\r\n",
        "#     pickle.dump(mnbc, output)\r\n",
        "    \r\n",
        "# with open('Models/df_models_mnbc.pickle', 'wb') as output:\r\n",
        "#     pickle.dump(df_models_mnbc, output)"
      ],
      "execution_count": null,
      "outputs": []
    }
  ]
}