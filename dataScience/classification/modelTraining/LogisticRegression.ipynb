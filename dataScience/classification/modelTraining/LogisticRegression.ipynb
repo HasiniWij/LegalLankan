{
  "nbformat": 4,
  "nbformat_minor": 0,
  "metadata": {
    "colab": {
      "name": "LogisticRegression.ipynb",
      "provenance": [],
      "collapsed_sections": [],
      "toc_visible": true
    },
    "kernelspec": {
      "name": "python3",
      "display_name": "Python 3"
    }
  },
  "cells": [
    {
      "cell_type": "code",
      "metadata": {
        "id": "CFDqCzhDEphU"
      },
      "source": [
        "import pickle\r\n",
        "import numpy as np\r\n",
        "from sklearn.feature_extraction.text import TfidfVectorizer\r\n",
        "from sklearn.linear_model import LogisticRegression\r\n",
        "from pprint import pprint\r\n",
        "from sklearn.model_selection import RandomizedSearchCV\r\n",
        "from sklearn.model_selection import GridSearchCV\r\n",
        "from sklearn.metrics import classification_report, confusion_matrix, accuracy_score\r\n",
        "from sklearn.model_selection import ShuffleSplit\r\n",
        "import matplotlib.pyplot as plt\r\n",
        "import seaborn as sns\r\n",
        "import pandas as pd"
      ],
      "execution_count": 1,
      "outputs": []
    },
    {
      "cell_type": "code",
      "metadata": {
        "id": "HcNO1ZMME2ze"
      },
      "source": [
        "path_df = \"/content/df.pickle\"\r\n",
        "with open(path_df, 'rb') as data:\r\n",
        "    df = pickle.load(data)\r\n",
        "\r\n",
        "# features_train\r\n",
        "path_features_train = \"/content/features_train.pickle\"\r\n",
        "with open(path_features_train, 'rb') as data:\r\n",
        "    features_train = pickle.load(data)\r\n",
        "\r\n",
        "# labels_train\r\n",
        "path_labels_train = \"/content/labels_train.pickle\"\r\n",
        "with open(path_labels_train, 'rb') as data:\r\n",
        "    labels_train = pickle.load(data)\r\n",
        "\r\n",
        "# features_test\r\n",
        "path_features_test = \"/content/features_test.pickle\"\r\n",
        "with open(path_features_test, 'rb') as data:\r\n",
        "    features_test = pickle.load(data)\r\n",
        "\r\n",
        "# labels_test\r\n",
        "path_labels_test = \"/content/labels_test.pickle\"\r\n",
        "with open(path_labels_test, 'rb') as data:\r\n",
        "    labels_test = pickle.load(data)"
      ],
      "execution_count": 2,
      "outputs": []
    },
    {
      "cell_type": "code",
      "metadata": {
        "id": "q-nr9v-3E7Bp",
        "colab": {
          "base_uri": "https://localhost:8080/"
        },
        "outputId": "2ab69d5e-a66f-45e7-82f8-c2a4d21e580d"
      },
      "source": [
        "lr_0 = LogisticRegression(random_state = 8)\r\n",
        "\r\n",
        "print('Parameters currently in use:\\n')\r\n",
        "pprint(lr_0.get_params())\r\n"
      ],
      "execution_count": 3,
      "outputs": [
        {
          "output_type": "stream",
          "text": [
            "Parameters currently in use:\n",
            "\n",
            "{'C': 1.0,\n",
            " 'class_weight': None,\n",
            " 'dual': False,\n",
            " 'fit_intercept': True,\n",
            " 'intercept_scaling': 1,\n",
            " 'l1_ratio': None,\n",
            " 'max_iter': 100,\n",
            " 'multi_class': 'auto',\n",
            " 'n_jobs': None,\n",
            " 'penalty': 'l2',\n",
            " 'random_state': 8,\n",
            " 'solver': 'lbfgs',\n",
            " 'tol': 0.0001,\n",
            " 'verbose': 0,\n",
            " 'warm_start': False}\n"
          ],
          "name": "stdout"
        }
      ]
    },
    {
      "cell_type": "code",
      "metadata": {
        "id": "00Dj5MVrE-pV",
        "colab": {
          "base_uri": "https://localhost:8080/"
        },
        "outputId": "ccf7d591-5c4c-4b74-f04b-7bc8e0ec1467"
      },
      "source": [
        "# C\r\n",
        "C = [float(x) for x in np.linspace(start = 0.1, stop = 1, num = 10)]\r\n",
        "\r\n",
        "# multi_class\r\n",
        "multi_class = ['multinomial']\r\n",
        "\r\n",
        "# solver\r\n",
        "solver = ['newton-cg', 'sag', 'saga', 'lbfgs']\r\n",
        " \r\n",
        "# class_weight\r\n",
        "class_weight = ['balanced', None]\r\n",
        "\r\n",
        "# penalty\r\n",
        "penalty = ['l2']\r\n",
        "\r\n",
        "# Create the random grid\r\n",
        "random_grid = {'C': C,\r\n",
        "               'multi_class': multi_class,\r\n",
        "               'solver': solver,\r\n",
        "               'class_weight': class_weight,\r\n",
        "               'penalty': penalty}\r\n",
        "\r\n",
        "pprint(random_grid)"
      ],
      "execution_count": 4,
      "outputs": [
        {
          "output_type": "stream",
          "text": [
            "{'C': [0.1,\n",
            "       0.2,\n",
            "       0.30000000000000004,\n",
            "       0.4,\n",
            "       0.5,\n",
            "       0.6,\n",
            "       0.7000000000000001,\n",
            "       0.8,\n",
            "       0.9,\n",
            "       1.0],\n",
            " 'class_weight': ['balanced', None],\n",
            " 'multi_class': ['multinomial'],\n",
            " 'penalty': ['l2'],\n",
            " 'solver': ['newton-cg', 'sag', 'saga', 'lbfgs']}\n"
          ],
          "name": "stdout"
        }
      ]
    },
    {
      "cell_type": "code",
      "metadata": {
        "id": "Swd3nhPqFBbm",
        "colab": {
          "base_uri": "https://localhost:8080/"
        },
        "outputId": "1dedd850-b128-4f9e-ffbb-288ec4ae3cb5"
      },
      "source": [
        "# First create the base model to tune\r\n",
        "lrc = LogisticRegression(random_state=8)\r\n",
        "\r\n",
        "# Definition of the random search\r\n",
        "random_search = RandomizedSearchCV(estimator=lrc,\r\n",
        "                                   param_distributions=random_grid,\r\n",
        "                                   n_iter=50,\r\n",
        "                                   scoring='accuracy',\r\n",
        "                                   cv=3, \r\n",
        "                                   verbose=1, \r\n",
        "                                   random_state=8)\r\n",
        "\r\n",
        "# Fit the random search model\r\n",
        "random_search.fit(features_train, labels_train)"
      ],
      "execution_count": 5,
      "outputs": [
        {
          "output_type": "stream",
          "text": [
            "Fitting 3 folds for each of 50 candidates, totalling 150 fits\n"
          ],
          "name": "stdout"
        },
        {
          "output_type": "stream",
          "text": [
            "[Parallel(n_jobs=1)]: Using backend SequentialBackend with 1 concurrent workers.\n",
            "/usr/local/lib/python3.6/dist-packages/sklearn/linear_model/_sag.py:330: ConvergenceWarning: The max_iter was reached which means the coef_ did not converge\n",
            "  \"the coef_ did not converge\", ConvergenceWarning)\n",
            "/usr/local/lib/python3.6/dist-packages/sklearn/linear_model/_sag.py:330: ConvergenceWarning: The max_iter was reached which means the coef_ did not converge\n",
            "  \"the coef_ did not converge\", ConvergenceWarning)\n",
            "/usr/local/lib/python3.6/dist-packages/sklearn/linear_model/_sag.py:330: ConvergenceWarning: The max_iter was reached which means the coef_ did not converge\n",
            "  \"the coef_ did not converge\", ConvergenceWarning)\n",
            "/usr/local/lib/python3.6/dist-packages/sklearn/linear_model/_sag.py:330: ConvergenceWarning: The max_iter was reached which means the coef_ did not converge\n",
            "  \"the coef_ did not converge\", ConvergenceWarning)\n",
            "/usr/local/lib/python3.6/dist-packages/sklearn/linear_model/_sag.py:330: ConvergenceWarning: The max_iter was reached which means the coef_ did not converge\n",
            "  \"the coef_ did not converge\", ConvergenceWarning)\n",
            "/usr/local/lib/python3.6/dist-packages/sklearn/linear_model/_sag.py:330: ConvergenceWarning: The max_iter was reached which means the coef_ did not converge\n",
            "  \"the coef_ did not converge\", ConvergenceWarning)\n",
            "/usr/local/lib/python3.6/dist-packages/sklearn/linear_model/_sag.py:330: ConvergenceWarning: The max_iter was reached which means the coef_ did not converge\n",
            "  \"the coef_ did not converge\", ConvergenceWarning)\n",
            "/usr/local/lib/python3.6/dist-packages/sklearn/linear_model/_sag.py:330: ConvergenceWarning: The max_iter was reached which means the coef_ did not converge\n",
            "  \"the coef_ did not converge\", ConvergenceWarning)\n",
            "[Parallel(n_jobs=1)]: Done 150 out of 150 | elapsed:   41.5s finished\n"
          ],
          "name": "stderr"
        },
        {
          "output_type": "execute_result",
          "data": {
            "text/plain": [
              "RandomizedSearchCV(cv=3, error_score=nan,\n",
              "                   estimator=LogisticRegression(C=1.0, class_weight=None,\n",
              "                                                dual=False, fit_intercept=True,\n",
              "                                                intercept_scaling=1,\n",
              "                                                l1_ratio=None, max_iter=100,\n",
              "                                                multi_class='auto', n_jobs=None,\n",
              "                                                penalty='l2', random_state=8,\n",
              "                                                solver='lbfgs', tol=0.0001,\n",
              "                                                verbose=0, warm_start=False),\n",
              "                   iid='deprecated', n_iter=50, n_jobs=None,\n",
              "                   param_distributions={'C': [0.1, 0.2, 0.30000000000000004,\n",
              "                                              0.4, 0.5, 0.6, 0.7000000000000001,\n",
              "                                              0.8, 0.9, 1.0],\n",
              "                                        'class_weight': ['balanced', None],\n",
              "                                        'multi_class': ['multinomial'],\n",
              "                                        'penalty': ['l2'],\n",
              "                                        'solver': ['newton-cg', 'sag', 'saga',\n",
              "                                                   'lbfgs']},\n",
              "                   pre_dispatch='2*n_jobs', random_state=8, refit=True,\n",
              "                   return_train_score=False, scoring='accuracy', verbose=1)"
            ]
          },
          "metadata": {
            "tags": []
          },
          "execution_count": 5
        }
      ]
    },
    {
      "cell_type": "code",
      "metadata": {
        "id": "lPUxcxIAFEea",
        "colab": {
          "base_uri": "https://localhost:8080/"
        },
        "outputId": "08b00cdd-c0ee-4365-ac21-3d83385e87c2"
      },
      "source": [
        "print(\"The best hyperparameters from Random Search are:\")\r\n",
        "print(random_search.best_params_)\r\n",
        "print(\"\")\r\n",
        "print(\"The mean accuracy of a model with these hyperparameters is:\")\r\n",
        "print(random_search.best_score_)"
      ],
      "execution_count": 6,
      "outputs": [
        {
          "output_type": "stream",
          "text": [
            "The best hyperparameters from Random Search are:\n",
            "{'solver': 'newton-cg', 'penalty': 'l2', 'multi_class': 'multinomial', 'class_weight': 'balanced', 'C': 0.9}\n",
            "\n",
            "The mean accuracy of a model with these hyperparameters is:\n",
            "0.8551609141179862\n"
          ],
          "name": "stdout"
        }
      ]
    },
    {
      "cell_type": "code",
      "metadata": {
        "id": "ib8ljgEFFFXY",
        "colab": {
          "base_uri": "https://localhost:8080/"
        },
        "outputId": "f58c9a66-9866-45fa-a204-902ff8b18dcc"
      },
      "source": [
        "\r\n",
        "# Create the parameter grid based on the results of random search \r\n",
        "C = [float(x) for x in np.linspace(start = 0.6, stop = 1, num = 10)]\r\n",
        "multi_class = ['multinomial']\r\n",
        "solver = ['newton-cg']\r\n",
        "class_weight = ['balanced']\r\n",
        "penalty = ['l2']\r\n",
        "\r\n",
        "param_grid = {'C': C,\r\n",
        "               'multi_class': multi_class,\r\n",
        "               'solver': solver,\r\n",
        "               'class_weight': class_weight,\r\n",
        "               'penalty': penalty}\r\n",
        "\r\n",
        "# Create a base model\r\n",
        "lrc = LogisticRegression(random_state=8)\r\n",
        "\r\n",
        "# Manually create the splits in CV in order to be able to fix a random_state (GridSearchCV doesn't have that argument)\r\n",
        "cv_sets = ShuffleSplit(n_splits = 3, test_size = .33, random_state = 8)\r\n",
        "\r\n",
        "# Instantiate the grid search model\r\n",
        "grid_search = GridSearchCV(estimator=lrc, \r\n",
        "                           param_grid=param_grid,\r\n",
        "                           scoring='accuracy',\r\n",
        "                           cv=cv_sets,\r\n",
        "                           verbose=1)\r\n",
        "\r\n",
        "# Fit the grid search to the data\r\n",
        "grid_search.fit(features_train, labels_train)"
      ],
      "execution_count": 7,
      "outputs": [
        {
          "output_type": "stream",
          "text": [
            "Fitting 3 folds for each of 10 candidates, totalling 30 fits\n"
          ],
          "name": "stdout"
        },
        {
          "output_type": "stream",
          "text": [
            "[Parallel(n_jobs=1)]: Using backend SequentialBackend with 1 concurrent workers.\n",
            "[Parallel(n_jobs=1)]: Done  30 out of  30 | elapsed:    4.9s finished\n"
          ],
          "name": "stderr"
        },
        {
          "output_type": "execute_result",
          "data": {
            "text/plain": [
              "GridSearchCV(cv=ShuffleSplit(n_splits=3, random_state=8, test_size=0.33, train_size=None),\n",
              "             error_score=nan,\n",
              "             estimator=LogisticRegression(C=1.0, class_weight=None, dual=False,\n",
              "                                          fit_intercept=True,\n",
              "                                          intercept_scaling=1, l1_ratio=None,\n",
              "                                          max_iter=100, multi_class='auto',\n",
              "                                          n_jobs=None, penalty='l2',\n",
              "                                          random_state=8, solver='lbfgs',\n",
              "                                          tol=0.0001, verbose=0,\n",
              "                                          warm_start=False),\n",
              "             iid=...\n",
              "             param_grid={'C': [0.6, 0.6444444444444444, 0.6888888888888889,\n",
              "                               0.7333333333333333, 0.7777777777777778,\n",
              "                               0.8222222222222222, 0.8666666666666667,\n",
              "                               0.9111111111111111, 0.9555555555555555, 1.0],\n",
              "                         'class_weight': ['balanced'],\n",
              "                         'multi_class': ['multinomial'], 'penalty': ['l2'],\n",
              "                         'solver': ['newton-cg']},\n",
              "             pre_dispatch='2*n_jobs', refit=True, return_train_score=False,\n",
              "             scoring='accuracy', verbose=1)"
            ]
          },
          "metadata": {
            "tags": []
          },
          "execution_count": 7
        }
      ]
    },
    {
      "cell_type": "code",
      "metadata": {
        "id": "d6oBvRwPFNOn",
        "colab": {
          "base_uri": "https://localhost:8080/"
        },
        "outputId": "792a6be2-a1df-42a3-d9d6-2b4dbc123638"
      },
      "source": [
        "\r\n",
        "print(\"The best hyperparameters from Grid Search are:\")\r\n",
        "print(grid_search.best_params_)\r\n",
        "print(\"\")\r\n",
        "print(\"The mean accuracy of a model with these hyperparameters is:\")\r\n",
        "print(grid_search.best_score_)"
      ],
      "execution_count": 8,
      "outputs": [
        {
          "output_type": "stream",
          "text": [
            "The best hyperparameters from Grid Search are:\n",
            "{'C': 0.9111111111111111, 'class_weight': 'balanced', 'multi_class': 'multinomial', 'penalty': 'l2', 'solver': 'newton-cg'}\n",
            "\n",
            "The mean accuracy of a model with these hyperparameters is:\n",
            "0.8354661791590493\n"
          ],
          "name": "stdout"
        }
      ]
    },
    {
      "cell_type": "code",
      "metadata": {
        "id": "2Nc_aFsbFPWb",
        "colab": {
          "base_uri": "https://localhost:8080/"
        },
        "outputId": "e26c26c2-def3-40b7-f4a3-002c3cef09b2"
      },
      "source": [
        "best_lrc = grid_search.best_estimator_\r\n",
        "best_lrc"
      ],
      "execution_count": 10,
      "outputs": [
        {
          "output_type": "execute_result",
          "data": {
            "text/plain": [
              "LogisticRegression(C=0.9111111111111111, class_weight='balanced', dual=False,\n",
              "                   fit_intercept=True, intercept_scaling=1, l1_ratio=None,\n",
              "                   max_iter=100, multi_class='multinomial', n_jobs=None,\n",
              "                   penalty='l2', random_state=8, solver='newton-cg', tol=0.0001,\n",
              "                   verbose=0, warm_start=False)"
            ]
          },
          "metadata": {
            "tags": []
          },
          "execution_count": 10
        }
      ]
    },
    {
      "cell_type": "code",
      "metadata": {
        "id": "XQyO-XYMFUYs",
        "colab": {
          "base_uri": "https://localhost:8080/"
        },
        "outputId": "2cf762c5-1b84-4c88-bb73-f0697410529c"
      },
      "source": [
        "best_lrc.fit(features_train, labels_train)"
      ],
      "execution_count": 11,
      "outputs": [
        {
          "output_type": "execute_result",
          "data": {
            "text/plain": [
              "LogisticRegression(C=0.9111111111111111, class_weight='balanced', dual=False,\n",
              "                   fit_intercept=True, intercept_scaling=1, l1_ratio=None,\n",
              "                   max_iter=100, multi_class='multinomial', n_jobs=None,\n",
              "                   penalty='l2', random_state=8, solver='newton-cg', tol=0.0001,\n",
              "                   verbose=0, warm_start=False)"
            ]
          },
          "metadata": {
            "tags": []
          },
          "execution_count": 11
        }
      ]
    },
    {
      "cell_type": "code",
      "metadata": {
        "id": "evjUOkhbFWE_"
      },
      "source": [
        "lrc_pred = best_lrc.predict(features_test)"
      ],
      "execution_count": 12,
      "outputs": []
    },
    {
      "cell_type": "code",
      "metadata": {
        "id": "HLQurwx9FWyK",
        "colab": {
          "base_uri": "https://localhost:8080/"
        },
        "outputId": "22bc78bd-7b40-47db-f5c7-13ec40957432"
      },
      "source": [
        "# Training accuracy\r\n",
        "print(\"The training accuracy is: \")\r\n",
        "print(accuracy_score(labels_train, best_lrc.predict(features_train)))"
      ],
      "execution_count": 13,
      "outputs": [
        {
          "output_type": "stream",
          "text": [
            "The training accuracy is: \n",
            "0.9004224502112251\n"
          ],
          "name": "stdout"
        }
      ]
    },
    {
      "cell_type": "code",
      "metadata": {
        "id": "sL5cxHEMFbN7",
        "colab": {
          "base_uri": "https://localhost:8080/"
        },
        "outputId": "88a3b874-fae2-43b4-ee31-c44f19f29ddd"
      },
      "source": [
        "# Test accuracy\r\n",
        "print(\"The test accuracy is: \")\r\n",
        "print(accuracy_score(labels_test, lrc_pred))"
      ],
      "execution_count": 14,
      "outputs": [
        {
          "output_type": "stream",
          "text": [
            "The test accuracy is: \n",
            "0.9078498293515358\n"
          ],
          "name": "stdout"
        }
      ]
    },
    {
      "cell_type": "code",
      "metadata": {
        "id": "E7SWNrxJFdbw",
        "colab": {
          "base_uri": "https://localhost:8080/"
        },
        "outputId": "0425037f-67f4-43b4-8676-e60026812053"
      },
      "source": [
        "# Classification report\r\n",
        "print(\"Classification report\")\r\n",
        "print(classification_report(labels_test,lrc_pred))\r\n"
      ],
      "execution_count": 15,
      "outputs": [
        {
          "output_type": "stream",
          "text": [
            "Classification report\n",
            "              precision    recall  f1-score   support\n",
            "\n",
            "           0       0.83      0.93      0.88        57\n",
            "           1       0.93      0.88      0.90        97\n",
            "           2       0.82      0.90      0.86        30\n",
            "           3       0.96      0.93      0.94       109\n",
            "\n",
            "    accuracy                           0.91       293\n",
            "   macro avg       0.89      0.91      0.90       293\n",
            "weighted avg       0.91      0.91      0.91       293\n",
            "\n"
          ],
          "name": "stdout"
        }
      ]
    },
    {
      "cell_type": "code",
      "metadata": {
        "id": "wmPNI2FqFf1a",
        "colab": {
          "base_uri": "https://localhost:8080/",
          "height": 404
        },
        "outputId": "a0b37d53-8edc-41fb-c2c4-a8ad9ef3b478"
      },
      "source": [
        "aux_df = df[['category', 'Category_Code']].drop_duplicates().sort_values('Category_Code')\r\n",
        "conf_matrix = confusion_matrix(labels_test, lrc_pred)\r\n",
        "plt.figure(figsize=(12.8,6))\r\n",
        "sns.heatmap(conf_matrix, \r\n",
        "            annot=True,\r\n",
        "            xticklabels=aux_df['category'].values, \r\n",
        "            yticklabels=aux_df['category'].values,\r\n",
        "            cmap=\"Blues\")\r\n",
        "plt.ylabel('Predicted')\r\n",
        "plt.xlabel('Actual')\r\n",
        "plt.title('Confusion matrix')\r\n",
        "plt.show()"
      ],
      "execution_count": 16,
      "outputs": [
        {
          "output_type": "display_data",
          "data": {
            "image/png": "[encoded data removed]",
            "text/plain": [
              "<Figure size 921.6x432 with 2 Axes>"
            ]
          },
          "metadata": {
            "tags": [],
            "needs_background": "light"
          }
        }
      ]
    },
    {
      "cell_type": "code",
      "metadata": {
        "id": "2Rc7izR2FjZL",
        "colab": {
          "base_uri": "https://localhost:8080/"
        },
        "outputId": "e78115d1-8b93-40f1-822b-340a574e427a"
      },
      "source": [
        "base_model = LogisticRegression(random_state = 8)\r\n",
        "base_model.fit(features_train, labels_train)\r\n",
        "accuracy_score(labels_test, base_model.predict(features_test))"
      ],
      "execution_count": 17,
      "outputs": [
        {
          "output_type": "execute_result",
          "data": {
            "text/plain": [
              "0.9112627986348123"
            ]
          },
          "metadata": {
            "tags": []
          },
          "execution_count": 17
        }
      ]
    },
    {
      "cell_type": "code",
      "metadata": {
        "id": "vHGTau3BFlYz",
        "colab": {
          "base_uri": "https://localhost:8080/"
        },
        "outputId": "3f8c8c40-5d4b-451c-a09e-c6aa9657316c"
      },
      "source": [
        "best_lrc.fit(features_train, labels_train)\r\n",
        "accuracy_score(labels_test, best_lrc.predict(features_test))"
      ],
      "execution_count": 18,
      "outputs": [
        {
          "output_type": "execute_result",
          "data": {
            "text/plain": [
              "0.9078498293515358"
            ]
          },
          "metadata": {
            "tags": []
          },
          "execution_count": 18
        }
      ]
    },
    {
      "cell_type": "code",
      "metadata": {
        "id": "iPjjxqAUFnhX"
      },
      "source": [
        "\r\n",
        "d = {\r\n",
        "     'Model': 'Logistic Regression',\r\n",
        "     'Training Set Accuracy': accuracy_score(labels_train, best_lrc.predict(features_train)),\r\n",
        "     'Test Set Accuracy': accuracy_score(labels_test, lrc_pred)\r\n",
        "}\r\n",
        "\r\n",
        "df_models_lrc = pd.DataFrame(d, index=[0])"
      ],
      "execution_count": 19,
      "outputs": []
    },
    {
      "cell_type": "code",
      "metadata": {
        "id": "8KA6BW7rFqb8",
        "colab": {
          "base_uri": "https://localhost:8080/",
          "height": 77
        },
        "outputId": "7aee4243-02f6-4884-a97a-09e86c7dc6e3"
      },
      "source": [
        "df_models_lrc"
      ],
      "execution_count": 20,
      "outputs": [
        {
          "output_type": "execute_result",
          "data": {
            "text/html": [
              "<div>\n",
              "<style scoped>\n",
              "    .dataframe tbody tr th:only-of-type {\n",
              "        vertical-align: middle;\n",
              "    }\n",
              "\n",
              "    .dataframe tbody tr th {\n",
              "        vertical-align: top;\n",
              "    }\n",
              "\n",
              "    .dataframe thead th {\n",
              "        text-align: right;\n",
              "    }\n",
              "</style>\n",
              "<table border=\"1\" class=\"dataframe\">\n",
              "  <thead>\n",
              "    <tr style=\"text-align: right;\">\n",
              "      <th></th>\n",
              "      <th>Model</th>\n",
              "      <th>Training Set Accuracy</th>\n",
              "      <th>Test Set Accuracy</th>\n",
              "    </tr>\n",
              "  </thead>\n",
              "  <tbody>\n",
              "    <tr>\n",
              "      <th>0</th>\n",
              "      <td>Logistic Regression</td>\n",
              "      <td>0.900422</td>\n",
              "      <td>0.90785</td>\n",
              "    </tr>\n",
              "  </tbody>\n",
              "</table>\n",
              "</div>"
            ],
            "text/plain": [
              "                 Model  Training Set Accuracy  Test Set Accuracy\n",
              "0  Logistic Regression               0.900422            0.90785"
            ]
          },
          "metadata": {
            "tags": []
          },
          "execution_count": 20
        }
      ]
    },
    {
      "cell_type": "code",
      "metadata": {
        "id": "wzKVeWgaFrfs"
      },
      "source": [
        "with open('/content/lrc.pickle', 'wb') as output:\r\n",
        "    pickle.dump(best_lrc, output)\r\n",
        "    \r\n",
        "with open('/content/df_models_lrc.pickle', 'wb') as output:\r\n",
        "    pickle.dump(df_models_lrc, output)"
      ],
      "execution_count": 21,
      "outputs": []
    }
  ]
}