{
  "nbformat": 4,
  "nbformat_minor": 0,
  "metadata": {
    "colab": {
      "name": "creatingMatrix.ipynb",
      "provenance": [],
      "collapsed_sections": []
    },
    "kernelspec": {
      "name": "python3",
      "display_name": "Python 3"
    }
  },
  "cells": [
    {
      "cell_type": "code",
      "metadata": {
        "id": "cWk83czECprS"
      },
      "source": [
        "from gensim import corpora, models, similarities\r\n",
        "import jieba\r\n",
        "import pickle\r\n",
        "import pandas as pd"
      ],
      "execution_count": 1,
      "outputs": []
    },
    {
      "cell_type": "code",
      "metadata": {
        "id": "KVd7b7hwHNPM"
      },
      "source": [
        "path_df = \"/content/rights-dataframe.pickle\"\r\n",
        "with open(path_df, 'rb') as data:\r\n",
        "    category_df = pickle.load(data)"
      ],
      "execution_count": 2,
      "outputs": []
    },
    {
      "cell_type": "code",
      "metadata": {
        "id": "dCsUd3yELb62"
      },
      "source": [
        "# pieceName has .txt at the end, code to remove it  \r\n",
        "for index, row in category_df.iterrows():\r\n",
        "  row['pieceName']=row['pieceName'][:-4]"
      ],
      "execution_count": 3,
      "outputs": []
    },
    {
      "cell_type": "code",
      "metadata": {
        "id": "REYq8UanKPDs"
      },
      "source": [
        "# Common not meaningful names are removed\r\n",
        "for index, row in category_df.iterrows():\r\n",
        "  if row['pieceName']==\"1-Short title\" or row['pieceName']==\"0-Intro\":\r\n",
        "    row['pieceName']=''"
      ],
      "execution_count": 4,
      "outputs": []
    },
    {
      "cell_type": "code",
      "metadata": {
        "id": "j3e1ad9IiCuL"
      },
      "source": [
        "# next line charachter is removed \r\n",
        "category_df['content'] = category_df['content'].str.replace(\"\\n\", \" \")"
      ],
      "execution_count": 5,
      "outputs": []
    },
    {
      "cell_type": "code",
      "metadata": {
        "colab": {
          "base_uri": "https://localhost:8080/",
          "height": 406
        },
        "id": "ScxwhgbnL-4c",
        "outputId": "c6e13d20-2b53-46d7-e1cd-cec07a8dc365"
      },
      "source": [
        "category_df"
      ],
      "execution_count": 6,
      "outputs": [
        {
          "output_type": "execute_result",
          "data": {
            "text/html": [
              "<div>\n",
              "<style scoped>\n",
              "    .dataframe tbody tr th:only-of-type {\n",
              "        vertical-align: middle;\n",
              "    }\n",
              "\n",
              "    .dataframe tbody tr th {\n",
              "        vertical-align: top;\n",
              "    }\n",
              "\n",
              "    .dataframe thead th {\n",
              "        text-align: right;\n",
              "    }\n",
              "</style>\n",
              "<table border=\"1\" class=\"dataframe\">\n",
              "  <thead>\n",
              "    <tr style=\"text-align: right;\">\n",
              "      <th></th>\n",
              "      <th>category</th>\n",
              "      <th>legName</th>\n",
              "      <th>pieceName</th>\n",
              "      <th>content</th>\n",
              "    </tr>\n",
              "  </thead>\n",
              "  <tbody>\n",
              "    <tr>\n",
              "      <th>0</th>\n",
              "      <td>rights</td>\n",
              "      <td>Matrimonial Rights and Inheritance Ordinance</td>\n",
              "      <td></td>\n",
              "      <td>This Ordinance may be cited as the Matrimonial...</td>\n",
              "    </tr>\n",
              "    <tr>\n",
              "      <th>1</th>\n",
              "      <td>rights</td>\n",
              "      <td>Matrimonial Rights and Inheritance Ordinance</td>\n",
              "      <td></td>\n",
              "      <td>This Ordinance may be cited as the Matrimonial...</td>\n",
              "    </tr>\n",
              "    <tr>\n",
              "      <th>2</th>\n",
              "      <td>rights</td>\n",
              "      <td>Matrimonial Rights and Inheritance Ordinance</td>\n",
              "      <td>vol</td>\n",
              "      <td>Chapter 57, Volume No.3 Page No.17</td>\n",
              "    </tr>\n",
              "    <tr>\n",
              "      <th>3</th>\n",
              "      <td>rights</td>\n",
              "      <td>Matrimonial Rights and Inheritance Ordinance</td>\n",
              "      <td>36-The rules of the Roman-Dutch law as it prev...</td>\n",
              "      <td>In all questions relating to the distribution ...</td>\n",
              "    </tr>\n",
              "    <tr>\n",
              "      <th>4</th>\n",
              "      <td>rights</td>\n",
              "      <td>Matrimonial Rights and Inheritance Ordinance</td>\n",
              "      <td>35-Collation by children or grand -children</td>\n",
              "      <td>Children or grandchildren by representation be...</td>\n",
              "    </tr>\n",
              "    <tr>\n",
              "      <th>...</th>\n",
              "      <td>...</td>\n",
              "      <td>...</td>\n",
              "      <td>...</td>\n",
              "      <td>...</td>\n",
              "    </tr>\n",
              "    <tr>\n",
              "      <th>157</th>\n",
              "      <td>rights</td>\n",
              "      <td>Fundamental Rights in The Constitution of the ...</td>\n",
              "      <td>14-Freedom of speech, assembly, association, o...</td>\n",
              "      <td>(1) Every citizen is entitled to – (a) the fre...</td>\n",
              "    </tr>\n",
              "    <tr>\n",
              "      <th>158</th>\n",
              "      <td>rights</td>\n",
              "      <td>Fundamental Rights in The Constitution of the ...</td>\n",
              "      <td>14A-Right of access to information</td>\n",
              "      <td>(1) Every citizen shall have the right of acce...</td>\n",
              "    </tr>\n",
              "    <tr>\n",
              "      <th>159</th>\n",
              "      <td>rights</td>\n",
              "      <td>Fundamental Rights in The Constitution of the ...</td>\n",
              "      <td>15-Restrictions on fundamental rights</td>\n",
              "      <td>(1) The exercise and operation of the fundamen...</td>\n",
              "    </tr>\n",
              "    <tr>\n",
              "      <th>160</th>\n",
              "      <td>rights</td>\n",
              "      <td>Fundamental Rights in The Constitution of the ...</td>\n",
              "      <td>16-Existing written law and unwritten law to c...</td>\n",
              "      <td>(1) All existing written law and unwritten law...</td>\n",
              "    </tr>\n",
              "    <tr>\n",
              "      <th>161</th>\n",
              "      <td>rights</td>\n",
              "      <td>Fundamental Rights in The Constitution of the ...</td>\n",
              "      <td>17-Remedy for the infringement of fundamental ...</td>\n",
              "      <td>Every person shall be entitled to apply to the...</td>\n",
              "    </tr>\n",
              "  </tbody>\n",
              "</table>\n",
              "<p>162 rows × 4 columns</p>\n",
              "</div>"
            ],
            "text/plain": [
              "    category  ...                                            content\n",
              "0     rights  ...  This Ordinance may be cited as the Matrimonial...\n",
              "1     rights  ...  This Ordinance may be cited as the Matrimonial...\n",
              "2     rights  ...                 Chapter 57, Volume No.3 Page No.17\n",
              "3     rights  ...  In all questions relating to the distribution ...\n",
              "4     rights  ...  Children or grandchildren by representation be...\n",
              "..       ...  ...                                                ...\n",
              "157   rights  ...  (1) Every citizen is entitled to – (a) the fre...\n",
              "158   rights  ...  (1) Every citizen shall have the right of acce...\n",
              "159   rights  ...  (1) The exercise and operation of the fundamen...\n",
              "160   rights  ...  (1) All existing written law and unwritten law...\n",
              "161   rights  ...  Every person shall be entitled to apply to the...\n",
              "\n",
              "[162 rows x 4 columns]"
            ]
          },
          "metadata": {
            "tags": []
          },
          "execution_count": 6
        }
      ]
    },
    {
      "cell_type": "code",
      "metadata": {
        "id": "XXR_iYJCIS-i"
      },
      "source": [
        "#doucmnets should be ranked according legName, pieceName,content  \r\n",
        "data=[]\r\n",
        "for index, row in category_df.iterrows():\r\n",
        "  full_content ='' \r\n",
        "  full_content= row['legName']+\" \"+row['pieceName']+\" \"+row['content']\r\n",
        "  data.append(full_content)"
      ],
      "execution_count": 7,
      "outputs": []
    },
    {
      "cell_type": "code",
      "metadata": {
        "colab": {
          "base_uri": "https://localhost:8080/"
        },
        "id": "YQpwICtGQkj_",
        "outputId": "9230f89b-e7e9-4618-8be0-b1cb567bef0d"
      },
      "source": [
        "# dictionary - convert search word to vector \r\n",
        "# jieba - cuts the kewords into segments \r\n",
        "data = [jieba.lcut(text) for text in data]\r\n",
        "dictionary = corpora.Dictionary(data)"
      ],
      "execution_count": 8,
      "outputs": [
        {
          "output_type": "stream",
          "text": [
            "Building prefix dict from the default dictionary ...\n",
            "Loading model from cache /tmp/jieba.cache\n",
            "Loading model cost 0.817 seconds.\n",
            "Prefix dict has been built successfully.\n"
          ],
          "name": "stderr"
        }
      ]
    },
    {
      "cell_type": "code",
      "metadata": {
        "id": "Q55gjfHd7IAI"
      },
      "source": [
        "# counts the word features of the dictionary of texts\r\n",
        "feature_cnt = len(dictionary.token2id)\r\n",
        "# counts the number of occurrences of a word within the corpus\r\n",
        "corpus = [dictionary.doc2bow(text) for text in data]  \r\n",
        "# Creates a tf-idf model\r\n",
        "tfidf = models.TfidfModel(corpus)   \r\n",
        "# Convert and index the corpus to check for similarity \r\n",
        "matrix = similarities.SparseMatrixSimilarity(tfidf[corpus], num_features = feature_cnt)  "
      ],
      "execution_count": 9,
      "outputs": []
    },
    {
      "cell_type": "code",
      "metadata": {
        "id": "0JOWbPIOUp81"
      },
      "source": [
        "with open('/content/rights_matrix.pickle', 'wb') as output:\r\n",
        "    pickle.dump(matrix, output)"
      ],
      "execution_count": 10,
      "outputs": []
    },
    {
      "cell_type": "code",
      "metadata": {
        "id": "BB9zAu9EfQF7"
      },
      "source": [
        "with open('/content/rights_dic.pickle', 'wb') as output:\r\n",
        "    pickle.dump(dictionary, output)"
      ],
      "execution_count": 11,
      "outputs": []
    },
    {
      "cell_type": "code",
      "metadata": {
        "id": "uTPVj6MLf6Lk"
      },
      "source": [
        "with open('/content/rights_tfdif.pickle', 'wb') as output:\r\n",
        "    pickle.dump(tfidf, output)"
      ],
      "execution_count": 12,
      "outputs": []
    }
  ]
}